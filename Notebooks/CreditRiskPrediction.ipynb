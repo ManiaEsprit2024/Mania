version https://git-lfs.github.com/spec/v1
oid sha256:b803facfdb2b9cb440986271387ff844fad0ddb8351be2d4683376e0bab2b0a4
size 1053622
