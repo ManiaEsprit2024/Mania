version https://git-lfs.github.com/spec/v1
oid sha256:1163fc6b29755bdf4fc8dc6be009b9552930779643844b5ce47e0bad2b2d505c
size 135416
