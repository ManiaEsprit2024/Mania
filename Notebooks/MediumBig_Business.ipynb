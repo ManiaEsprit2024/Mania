{
  "cells": [
    {
      "cell_type": "code",
      "execution_count": 126,
      "metadata": {
        "id": "oZZg4uf7UjNn"
      },
      "outputs": [],
      "source": [
        "import pandas as pd\n",
        "import matplotlib.pyplot as plt\n",
        "import seaborn as sns\n",
        "import numpy as np\n"
      ]
    },
    {
      "cell_type": "markdown",
      "metadata": {
        "id": "Cr9cOZDQUjNq"
      },
      "source": [
        "## DATA VISUALISATION"
      ]
    },
    {
      "cell_type": "code",
      "execution_count": 127,
      "metadata": {
        "colab": {
          "base_uri": "https://localhost:8080/"
        },
        "id": "-QZGDSutUjNs",
        "outputId": "ce79fa48-2c3d-4c2a-8570-5db94a91abfc"
      },
      "outputs": [
        {
          "name": "stdout",
          "output_type": "stream",
          "text": [
            "        unique_id disbursement_date  ssbci_original_funds  \\\n",
            "0   AK_2013_VCP_2         7/13/2013              250000.0   \n",
            "1   AL_2012_LGP_6         2/21/2012              201000.0   \n",
            "2  AL_2012_LGP_10         5/11/2012               25000.0   \n",
            "3  AL_2012_LGP_22         11/1/2012             2500000.0   \n",
            "4  AL_2012_LGP_25        11/19/2012             1316500.0   \n",
            "\n",
            "   lender_insurance_premium metro_type LMI_type      revenue  naics_code  \\\n",
            "0                       0.0      Metro      LMI         0.00      423930   \n",
            "1                       0.0  Non-Metro  Non-LMI    219451.66      623311   \n",
            "2                       0.0  Non-Metro      LMI     59854.00      484121   \n",
            "3                       0.0  Non-Metro      LMI   8063204.00      517210   \n",
            "4                       0.0  Non-Metro  Non-LMI  13153200.00      447190   \n",
            "\n",
            "   jobs_created  jobs_retained lender_type_category  \\\n",
            "0           4.0            0.0            Loan Fund   \n",
            "1           0.0           25.0       Bank or Thrift   \n",
            "2           0.0            3.0       Bank or Thrift   \n",
            "3          12.0            8.0       Bank or Thrift   \n",
            "4           0.0           65.0       Bank or Thrift   \n",
            "\n",
            "                     optional_primary_use_of_funds  \\\n",
            "0  Wages, Working Capital, & Professional Services   \n",
            "1  Wages, Working Capital, & Professional Services   \n",
            "2  Wages, Working Capital, & Professional Services   \n",
            "3  Wages, Working Capital, & Professional Services   \n",
            "4  Wages, Working Capital, & Professional Services   \n",
            "\n",
            "   optional_revenue_yr_confirmed optional_stage active_status  support_amount  \\\n",
            "0                         2014.0    Early Stage       Unknown             0.0   \n",
            "1                         2014.0    Early Stage       Unknown        201000.0   \n",
            "2                         2014.0    Early Stage       Unknown         25000.0   \n",
            "3                         2014.0    Early Stage       Unknown       2500000.0   \n",
            "4                         2014.0    Early Stage       Unknown       1316500.0   \n",
            "\n",
            "   full_time_employees  \n",
            "0                 28.0  \n",
            "1                 25.0  \n",
            "2                 37.0  \n",
            "3                 47.0  \n",
            "4                 65.0  \n"
          ]
        }
      ],
      "source": [
        "df = pd.read_csv('../Datasets/Companies/MediumBigCompanies.csv')\n",
        "print(df.head())"
      ]
    },
    {
      "cell_type": "code",
      "execution_count": 128,
      "metadata": {
        "colab": {
          "base_uri": "https://localhost:8080/",
          "height": 313
        },
        "id": "jahcCiBeUjNu",
        "outputId": "dae200e0-656a-45fd-db10-443bec369cf9"
      },
      "outputs": [
        {
          "data": {
            "text/html": [
              "<div>\n",
              "<style scoped>\n",
              "    .dataframe tbody tr th:only-of-type {\n",
              "        vertical-align: middle;\n",
              "    }\n",
              "\n",
              "    .dataframe tbody tr th {\n",
              "        vertical-align: top;\n",
              "    }\n",
              "\n",
              "    .dataframe thead th {\n",
              "        text-align: right;\n",
              "    }\n",
              "</style>\n",
              "<table border=\"1\" class=\"dataframe\">\n",
              "  <thead>\n",
              "    <tr style=\"text-align: right;\">\n",
              "      <th></th>\n",
              "      <th>unique_id</th>\n",
              "      <th>disbursement_date</th>\n",
              "      <th>ssbci_original_funds</th>\n",
              "      <th>lender_insurance_premium</th>\n",
              "      <th>metro_type</th>\n",
              "      <th>LMI_type</th>\n",
              "      <th>revenue</th>\n",
              "      <th>naics_code</th>\n",
              "      <th>jobs_created</th>\n",
              "      <th>jobs_retained</th>\n",
              "      <th>lender_type_category</th>\n",
              "      <th>optional_primary_use_of_funds</th>\n",
              "      <th>optional_revenue_yr_confirmed</th>\n",
              "      <th>optional_stage</th>\n",
              "      <th>active_status</th>\n",
              "      <th>support_amount</th>\n",
              "      <th>full_time_employees</th>\n",
              "    </tr>\n",
              "  </thead>\n",
              "  <tbody>\n",
              "    <tr>\n",
              "      <th>0</th>\n",
              "      <td>AK_2013_VCP_2</td>\n",
              "      <td>7/13/2013</td>\n",
              "      <td>250000.0</td>\n",
              "      <td>0.0</td>\n",
              "      <td>Metro</td>\n",
              "      <td>LMI</td>\n",
              "      <td>0.00</td>\n",
              "      <td>423930</td>\n",
              "      <td>4.0</td>\n",
              "      <td>0.0</td>\n",
              "      <td>Loan Fund</td>\n",
              "      <td>Wages, Working Capital, &amp; Professional Services</td>\n",
              "      <td>2014.0</td>\n",
              "      <td>Early Stage</td>\n",
              "      <td>Unknown</td>\n",
              "      <td>0.0</td>\n",
              "      <td>28.0</td>\n",
              "    </tr>\n",
              "    <tr>\n",
              "      <th>1</th>\n",
              "      <td>AL_2012_LGP_6</td>\n",
              "      <td>2/21/2012</td>\n",
              "      <td>201000.0</td>\n",
              "      <td>0.0</td>\n",
              "      <td>Non-Metro</td>\n",
              "      <td>Non-LMI</td>\n",
              "      <td>219451.66</td>\n",
              "      <td>623311</td>\n",
              "      <td>0.0</td>\n",
              "      <td>25.0</td>\n",
              "      <td>Bank or Thrift</td>\n",
              "      <td>Wages, Working Capital, &amp; Professional Services</td>\n",
              "      <td>2014.0</td>\n",
              "      <td>Early Stage</td>\n",
              "      <td>Unknown</td>\n",
              "      <td>201000.0</td>\n",
              "      <td>25.0</td>\n",
              "    </tr>\n",
              "    <tr>\n",
              "      <th>2</th>\n",
              "      <td>AL_2012_LGP_10</td>\n",
              "      <td>5/11/2012</td>\n",
              "      <td>25000.0</td>\n",
              "      <td>0.0</td>\n",
              "      <td>Non-Metro</td>\n",
              "      <td>LMI</td>\n",
              "      <td>59854.00</td>\n",
              "      <td>484121</td>\n",
              "      <td>0.0</td>\n",
              "      <td>3.0</td>\n",
              "      <td>Bank or Thrift</td>\n",
              "      <td>Wages, Working Capital, &amp; Professional Services</td>\n",
              "      <td>2014.0</td>\n",
              "      <td>Early Stage</td>\n",
              "      <td>Unknown</td>\n",
              "      <td>25000.0</td>\n",
              "      <td>37.0</td>\n",
              "    </tr>\n",
              "    <tr>\n",
              "      <th>3</th>\n",
              "      <td>AL_2012_LGP_22</td>\n",
              "      <td>11/1/2012</td>\n",
              "      <td>2500000.0</td>\n",
              "      <td>0.0</td>\n",
              "      <td>Non-Metro</td>\n",
              "      <td>LMI</td>\n",
              "      <td>8063204.00</td>\n",
              "      <td>517210</td>\n",
              "      <td>12.0</td>\n",
              "      <td>8.0</td>\n",
              "      <td>Bank or Thrift</td>\n",
              "      <td>Wages, Working Capital, &amp; Professional Services</td>\n",
              "      <td>2014.0</td>\n",
              "      <td>Early Stage</td>\n",
              "      <td>Unknown</td>\n",
              "      <td>2500000.0</td>\n",
              "      <td>47.0</td>\n",
              "    </tr>\n",
              "    <tr>\n",
              "      <th>4</th>\n",
              "      <td>AL_2012_LGP_25</td>\n",
              "      <td>11/19/2012</td>\n",
              "      <td>1316500.0</td>\n",
              "      <td>0.0</td>\n",
              "      <td>Non-Metro</td>\n",
              "      <td>Non-LMI</td>\n",
              "      <td>13153200.00</td>\n",
              "      <td>447190</td>\n",
              "      <td>0.0</td>\n",
              "      <td>65.0</td>\n",
              "      <td>Bank or Thrift</td>\n",
              "      <td>Wages, Working Capital, &amp; Professional Services</td>\n",
              "      <td>2014.0</td>\n",
              "      <td>Early Stage</td>\n",
              "      <td>Unknown</td>\n",
              "      <td>1316500.0</td>\n",
              "      <td>65.0</td>\n",
              "    </tr>\n",
              "  </tbody>\n",
              "</table>\n",
              "</div>"
            ],
            "text/plain": [
              "        unique_id disbursement_date  ssbci_original_funds  \\\n",
              "0   AK_2013_VCP_2         7/13/2013              250000.0   \n",
              "1   AL_2012_LGP_6         2/21/2012              201000.0   \n",
              "2  AL_2012_LGP_10         5/11/2012               25000.0   \n",
              "3  AL_2012_LGP_22         11/1/2012             2500000.0   \n",
              "4  AL_2012_LGP_25        11/19/2012             1316500.0   \n",
              "\n",
              "   lender_insurance_premium metro_type LMI_type      revenue  naics_code  \\\n",
              "0                       0.0      Metro      LMI         0.00      423930   \n",
              "1                       0.0  Non-Metro  Non-LMI    219451.66      623311   \n",
              "2                       0.0  Non-Metro      LMI     59854.00      484121   \n",
              "3                       0.0  Non-Metro      LMI   8063204.00      517210   \n",
              "4                       0.0  Non-Metro  Non-LMI  13153200.00      447190   \n",
              "\n",
              "   jobs_created  jobs_retained lender_type_category  \\\n",
              "0           4.0            0.0            Loan Fund   \n",
              "1           0.0           25.0       Bank or Thrift   \n",
              "2           0.0            3.0       Bank or Thrift   \n",
              "3          12.0            8.0       Bank or Thrift   \n",
              "4           0.0           65.0       Bank or Thrift   \n",
              "\n",
              "                     optional_primary_use_of_funds  \\\n",
              "0  Wages, Working Capital, & Professional Services   \n",
              "1  Wages, Working Capital, & Professional Services   \n",
              "2  Wages, Working Capital, & Professional Services   \n",
              "3  Wages, Working Capital, & Professional Services   \n",
              "4  Wages, Working Capital, & Professional Services   \n",
              "\n",
              "   optional_revenue_yr_confirmed optional_stage active_status  support_amount  \\\n",
              "0                         2014.0    Early Stage       Unknown             0.0   \n",
              "1                         2014.0    Early Stage       Unknown        201000.0   \n",
              "2                         2014.0    Early Stage       Unknown         25000.0   \n",
              "3                         2014.0    Early Stage       Unknown       2500000.0   \n",
              "4                         2014.0    Early Stage       Unknown       1316500.0   \n",
              "\n",
              "   full_time_employees  \n",
              "0                 28.0  \n",
              "1                 25.0  \n",
              "2                 37.0  \n",
              "3                 47.0  \n",
              "4                 65.0  "
            ]
          },
          "execution_count": 128,
          "metadata": {},
          "output_type": "execute_result"
        }
      ],
      "source": [
        "df.head()"
      ]
    },
    {
      "cell_type": "code",
      "execution_count": 129,
      "metadata": {
        "colab": {
          "base_uri": "https://localhost:8080/"
        },
        "id": "e50Fa3Q-UjNu",
        "outputId": "6d09484c-50f6-40b3-dfd4-e6d5d06ef4d0"
      },
      "outputs": [
        {
          "name": "stdout",
          "output_type": "stream",
          "text": [
            "Dataset dimensions: (3378, 17)\n"
          ]
        }
      ],
      "source": [
        "print(\"Dataset dimensions:\", df.shape)"
      ]
    },
    {
      "cell_type": "code",
      "execution_count": 130,
      "metadata": {
        "colab": {
          "base_uri": "https://localhost:8080/"
        },
        "id": "gQ6qg7HVUjNv",
        "outputId": "bb5885ff-bfb7-4047-82e5-4b86e689bb4c"
      },
      "outputs": [
        {
          "name": "stdout",
          "output_type": "stream",
          "text": [
            "<class 'pandas.core.frame.DataFrame'>\n",
            "RangeIndex: 3378 entries, 0 to 3377\n",
            "Data columns (total 17 columns):\n",
            " #   Column                         Non-Null Count  Dtype  \n",
            "---  ------                         --------------  -----  \n",
            " 0   unique_id                      3378 non-null   object \n",
            " 1   disbursement_date              3378 non-null   object \n",
            " 2   ssbci_original_funds           3378 non-null   float64\n",
            " 3   lender_insurance_premium       3378 non-null   float64\n",
            " 4   metro_type                     3378 non-null   object \n",
            " 5   LMI_type                       3378 non-null   object \n",
            " 6   revenue                        3378 non-null   float64\n",
            " 7   naics_code                     3378 non-null   int64  \n",
            " 8   jobs_created                   3378 non-null   float64\n",
            " 9   jobs_retained                  3378 non-null   float64\n",
            " 10  lender_type_category           3378 non-null   object \n",
            " 11  optional_primary_use_of_funds  3378 non-null   object \n",
            " 12  optional_revenue_yr_confirmed  3378 non-null   float64\n",
            " 13  optional_stage                 3378 non-null   object \n",
            " 14  active_status                  3378 non-null   object \n",
            " 15  support_amount                 3378 non-null   float64\n",
            " 16  full_time_employees            3378 non-null   float64\n",
            "dtypes: float64(8), int64(1), object(8)\n",
            "memory usage: 448.8+ KB\n",
            "None\n"
          ]
        }
      ],
      "source": [
        "# Get concise summary of the dataset\n",
        "print(df.info())"
      ]
    },
    {
      "cell_type": "code",
      "execution_count": 131,
      "metadata": {
        "colab": {
          "base_uri": "https://localhost:8080/"
        },
        "id": "AJG1ttpNUjNv",
        "outputId": "f48e9bd3-c946-41eb-a7bb-a92e777aa8ed"
      },
      "outputs": [
        {
          "name": "stdout",
          "output_type": "stream",
          "text": [
            "Data types of columns:\n",
            "unique_id                         object\n",
            "disbursement_date                 object\n",
            "ssbci_original_funds             float64\n",
            "lender_insurance_premium         float64\n",
            "metro_type                        object\n",
            "LMI_type                          object\n",
            "revenue                          float64\n",
            "naics_code                         int64\n",
            "jobs_created                     float64\n",
            "jobs_retained                    float64\n",
            "lender_type_category              object\n",
            "optional_primary_use_of_funds     object\n",
            "optional_revenue_yr_confirmed    float64\n",
            "optional_stage                    object\n",
            "active_status                     object\n",
            "support_amount                   float64\n",
            "full_time_employees              float64\n",
            "dtype: object\n"
          ]
        }
      ],
      "source": [
        "# Get data types of all columns\n",
        "print(\"Data types of columns:\")\n",
        "print(df.dtypes)"
      ]
    },
    {
      "cell_type": "code",
      "execution_count": 132,
      "metadata": {
        "colab": {
          "base_uri": "https://localhost:8080/"
        },
        "id": "ZvujuWKpUjNw",
        "outputId": "7f0ee4ed-bf3b-49c9-f65f-c07fb2383a71"
      },
      "outputs": [
        {
          "name": "stdout",
          "output_type": "stream",
          "text": [
            "Summary statistics for numerical columns:\n",
            "       ssbci_original_funds  lender_insurance_premium       revenue  \\\n",
            "count          3.378000e+03               3378.000000  3.378000e+03   \n",
            "mean           1.700565e+05                890.046473  1.030983e+07   \n",
            "std            3.644039e+05               3711.234097  1.065191e+08   \n",
            "min            0.000000e+00                  0.000000  0.000000e+00   \n",
            "25%            1.512500e+03                  0.000000  1.148000e+06   \n",
            "50%            3.589056e+04                  0.000000  3.000000e+06   \n",
            "75%            1.812500e+05                250.000000  7.576011e+06   \n",
            "max            5.000000e+06              52500.000000  5.900000e+09   \n",
            "\n",
            "          naics_code  jobs_created  jobs_retained  \\\n",
            "count    3378.000000   3378.000000    3378.000000   \n",
            "mean   476804.899941     11.830861      31.851909   \n",
            "std    169618.980669     27.638397      57.999812   \n",
            "min    111120.000000      0.000000       0.000000   \n",
            "25%    332710.000000      0.000000       0.000000   \n",
            "50%    484210.000000      4.000000      19.000000   \n",
            "75%    611110.000000     12.000000      35.000000   \n",
            "max    926110.000000    440.000000     695.000000   \n",
            "\n",
            "       optional_revenue_yr_confirmed  support_amount  full_time_employees  \n",
            "count                    3378.000000    3.378000e+03          3378.000000  \n",
            "mean                     2014.059503    1.657257e+05            50.460258  \n",
            "std                         0.928450    4.276882e+05            67.078645  \n",
            "min                      2010.000000    0.000000e+00            15.000000  \n",
            "25%                      2014.000000    0.000000e+00            20.000000  \n",
            "50%                      2014.000000    0.000000e+00            29.500000  \n",
            "75%                      2014.000000    1.500000e+05            51.000000  \n",
            "max                      2017.000000    8.000000e+06           695.000000  \n"
          ]
        }
      ],
      "source": [
        "print(\"Summary statistics for numerical columns:\")\n",
        "print(df.describe())"
      ]
    },
    {
      "cell_type": "code",
      "execution_count": 133,
      "metadata": {
        "id": "0VEWA4gqUjNx",
        "outputId": "8053eed4-96d4-4bab-fdd1-cbafd1898c26"
      },
      "outputs": [],
      "source": [
        "# print(\"Unique values and their counts for Year reported:\")\n",
        "# print(df[\"year_reported\"].value_counts())"
      ]
    },
    {
      "cell_type": "code",
      "execution_count": 134,
      "metadata": {
        "colab": {
          "base_uri": "https://localhost:8080/"
        },
        "id": "06WveqN0UjNx",
        "outputId": "4bb0c521-0c83-4a19-e2a6-ded01a90e09c"
      },
      "outputs": [
        {
          "name": "stdout",
          "output_type": "stream",
          "text": [
            "Unique count for Unique id :\n",
            "3378\n"
          ]
        }
      ],
      "source": [
        "print(\"Unique count for Unique id :\")\n",
        "print(df[\"unique_id\"].value_counts().sum())"
      ]
    },
    {
      "cell_type": "code",
      "execution_count": 135,
      "metadata": {
        "colab": {
          "base_uri": "https://localhost:8080/",
          "height": 564
        },
        "id": "S7QkX7L7UjNy",
        "outputId": "60c14fe4-cf20-403f-9767-3018f02203d3"
      },
      "outputs": [],
      "source": [
        "# # Histogram of loan/investment amounts\n",
        "# plt.figure(figsize=(10, 6))\n",
        "# sns.histplot(df['loan_investment_amount'], bins=20, kde=True)\n",
        "# plt.title('Distribution of Loan/Investment Amounts')\n",
        "# plt.xlabel('Loan/Investment Amount')\n",
        "# plt.ylabel('Frequency')\n",
        "# plt.show()"
      ]
    },
    {
      "cell_type": "code",
      "execution_count": 136,
      "metadata": {
        "id": "IRtnDuyOUjNy",
        "outputId": "e0280e04-691c-429f-a2f9-6a846f5fd3b3"
      },
      "outputs": [],
      "source": [
        "# plt.figure(figsize=(10, 6))\n",
        "# sns.scatterplot(data=df, x='revenue', y='loan_investment_amount')\n",
        "# plt.title('Loan/Investment Amount vs. Revenue')\n",
        "# plt.xlabel('Revenue')\n",
        "# plt.ylabel('Loan/Investment Amount')\n",
        "# plt.show()"
      ]
    },
    {
      "cell_type": "code",
      "execution_count": 137,
      "metadata": {
        "id": "yRsKz29nUjNz",
        "outputId": "00b192ce-921b-45c3-e54e-f9219da3eace"
      },
      "outputs": [],
      "source": [
        "# # Grouped bar chart of average loan/investment amount by program type\n",
        "# plt.figure(figsize=(10, 6))\n",
        "# sns.barplot(data=df, x='program_type', y='loan_investment_amount', estimator=np.mean)\n",
        "# plt.title('Average Loan/Investment Amount by Program Type')\n",
        "# plt.xlabel('Program Type')\n",
        "# plt.ylabel('Average Loan/Investment Amount')\n",
        "# plt.xticks(rotation=45)\n",
        "# plt.show()"
      ]
    },
    {
      "cell_type": "code",
      "execution_count": 138,
      "metadata": {
        "id": "Imhgy4oIUjN0"
      },
      "outputs": [],
      "source": [
        "# # Group data by lender type and calculate loan statistics\n",
        "# loan_stats_by_lender = df.groupby('lender_type')['loan_investment_amount'].agg(['count', 'sum', 'mean']).reset_index()\n",
        "\n",
        "# # Sort data by total loan amount in descending order\n",
        "# loan_stats_by_lender = loan_stats_by_lender.sort_values(by='sum', ascending=False)"
      ]
    },
    {
      "cell_type": "code",
      "execution_count": 139,
      "metadata": {
        "id": "NGsIwQ5gUjN0",
        "outputId": "62e881e3-1351-445e-83b9-9853bd14c5ae"
      },
      "outputs": [],
      "source": [
        "# # Visualize the influence of lender types on loans\n",
        "# plt.figure(figsize=(10, 6))\n",
        "# sns.barplot(data=loan_stats_by_lender, x='lender_type', y='sum', hue='lender_type', palette='viridis', legend=False)\n",
        "# plt.title('Total Loan Amount by Lender Type')\n",
        "# plt.xlabel('Lender Type')\n",
        "# plt.ylabel('Total Loan Amount')\n",
        "# plt.xticks(rotation=45)\n",
        "# plt.show()"
      ]
    },
    {
      "cell_type": "code",
      "execution_count": 140,
      "metadata": {
        "id": "w8W9jl5QUjN1",
        "outputId": "5b712f2e-6bf0-4686-fd68-7bb3d5464c2e"
      },
      "outputs": [],
      "source": [
        "# plt.figure(figsize=(10, 6))\n",
        "# sns.barplot(data=loan_stats_by_lender, x='lender_type', y='mean', hue='lender_type', palette='viridis', legend=False)\n",
        "# plt.title('Average Loan Amount by Lender Type')\n",
        "# plt.xlabel('Lender Type')\n",
        "# plt.ylabel('Average Loan Amount')\n",
        "# plt.xticks(rotation=45)\n",
        "# plt.show()"
      ]
    },
    {
      "cell_type": "code",
      "execution_count": 141,
      "metadata": {
        "id": "udF9Qm_aUjN2",
        "outputId": "519fc7eb-2dd2-42cf-b283-3b042767285e"
      },
      "outputs": [],
      "source": [
        "# plt.figure(figsize=(10, 6))\n",
        "# sns.barplot(data=loan_stats_by_lender, x='lender_type', y='count', hue='lender_type', palette='viridis', legend=False)\n",
        "# plt.title('Number of Loans by Lender Type')\n",
        "# plt.xlabel('Lender Type')\n",
        "# plt.ylabel('Number of Loans')\n",
        "# plt.xticks(rotation=45)\n",
        "# plt.show()"
      ]
    },
    {
      "cell_type": "code",
      "execution_count": 142,
      "metadata": {
        "id": "_DQLS1-CUjN2",
        "outputId": "d715f704-9274-453d-9558-77f66065c716"
      },
      "outputs": [],
      "source": [
        "# # Count the number of loans where optional_dollars_lost is not zero\n",
        "# lost_funds_loans_count = df[df['optional_dollars_lost'] != 0]['optional_dollars_lost'].count()\n",
        "# repaid_loans_count = df[df['optional_dollars_lost'] == 0]['optional_dollars_lost'].count()\n",
        "\n",
        "# # Count the total number of loans with data\n",
        "# total_loans_count = repaid_loans_count + lost_funds_loans_count\n",
        "# percent_lost_funds = (lost_funds_loans_count / total_loans_count) * 100\n",
        "# percent_repaid = (repaid_loans_count / total_loans_count) * 100\n",
        "\n",
        "# print(\"Total number of loans:\", total_loans_count)\n",
        "# print(\"=====================================================\")\n",
        "# print(\"Number of loans with funds lost:\", lost_funds_loans_count)\n",
        "# print(\"Number of loans that have been repaid:\", repaid_loans_count)\n",
        "# print(\"=====================================================\")\n",
        "# # Calculate percentages\n",
        "# print(\"Percentage of loans with funds lost: {:.2f}%\".format(percent_lost_funds))\n",
        "# print(\"Percentage of loans that have been repaid: {:.2f}%\".format(percent_repaid))"
      ]
    },
    {
      "cell_type": "code",
      "execution_count": 143,
      "metadata": {
        "id": "hBpj5EHnUjN3",
        "outputId": "dabd3216-5dbf-4dcc-97ef-845b03dbfeb1"
      },
      "outputs": [],
      "source": [
        "# # Define data\n",
        "# categories = ['Total Loans', 'Loans with Funds Lost', 'Loans Repaid']\n",
        "# counts = [total_loans_count, lost_funds_loans_count, repaid_loans_count]\n",
        "\n",
        "# # Create bar plot\n",
        "# plt.figure(figsize=(8, 6))\n",
        "# plt.bar(categories, counts, color=['blue', 'orange', 'green'])\n",
        "# plt.title('Loan Repayment Status')\n",
        "# plt.xlabel('Loan Status')\n",
        "# plt.ylabel('Number of Loans')\n",
        "# plt.show()"
      ]
    },
    {
      "cell_type": "code",
      "execution_count": 144,
      "metadata": {
        "id": "DwEmncp8UjN4",
        "outputId": "5fba18cf-8e0a-48d1-d883-8392b3971c72"
      },
      "outputs": [
        {
          "data": {
            "image/png": "[encoded data removed]",
            "text/plain": [
              "<Figure size 1200x800 with 2 Axes>"
            ]
          },
          "metadata": {},
          "output_type": "display_data"
        }
      ],
      "source": [
        "numeric_df = df.select_dtypes(include=['float64', 'int64'])\n",
        "\n",
        "# Calculate correlation matrix\n",
        "correlation_matrix = numeric_df.corr()\n",
        "\n",
        "# Plot heatmap of correlation matrix\n",
        "plt.figure(figsize=(12, 8))\n",
        "sns.heatmap(correlation_matrix, annot=True, cmap='coolwarm', fmt=\".2f\")\n",
        "plt.title('Correlation Matrix')\n",
        "plt.show()"
      ]
    },
    {
      "cell_type": "markdown",
      "metadata": {
        "id": "M0vpPoJEUjN4"
      },
      "source": [
        "## DATA CLEANING"
      ]
    },
    {
      "cell_type": "code",
      "execution_count": 145,
      "metadata": {
        "colab": {
          "base_uri": "https://localhost:8080/"
        },
        "id": "GR8QY0eYUjN5",
        "outputId": "44f165cf-25cb-4fd6-81e0-f714c3dd804c"
      },
      "outputs": [
        {
          "name": "stdout",
          "output_type": "stream",
          "text": [
            "Number of columns: 17\n"
          ]
        }
      ],
      "source": [
        "# Check the number of columns\n",
        "num_columns = len(df.columns)\n",
        "print(\"Number of columns:\", num_columns)"
      ]
    },
    {
      "cell_type": "code",
      "execution_count": 146,
      "metadata": {
        "colab": {
          "base_uri": "https://localhost:8080/"
        },
        "id": "dvmN21N5UjN5",
        "outputId": "87faf33b-5e4d-4107-bedc-d4ae79070612"
      },
      "outputs": [
        {
          "name": "stdout",
          "output_type": "stream",
          "text": [
            "Number of duplicate rows: 0\n"
          ]
        }
      ],
      "source": [
        "# Check for duplicates\n",
        "print(\"Number of duplicate rows:\", df.duplicated().sum())"
      ]
    },
    {
      "cell_type": "code",
      "execution_count": 147,
      "metadata": {},
      "outputs": [],
      "source": [
        "df = df[df['active_status'] != \"Unknown\"]"
      ]
    },
    {
      "cell_type": "code",
      "execution_count": 148,
      "metadata": {},
      "outputs": [
        {
          "name": "stdout",
          "output_type": "stream",
          "text": [
            "                                 active_status  count\n",
            "0                                          Yes    740\n",
            "1        Did not attempt to confirm operations    667\n",
            "2                                         Loss     26\n",
            "3                                     Bankrupt     20\n",
            "4                                         Sold     14\n",
            "5                                         Exit      9\n",
            "6  Attempted to confirm operations, but unable      1\n",
            "7                                        Other      1\n"
          ]
        }
      ],
      "source": [
        "frequency = df['active_status'].value_counts()\n",
        "frequency = frequency.reset_index()\n",
        "frequency.columns = ['active_status', 'count']\n",
        "print(frequency)\n"
      ]
    },
    {
      "cell_type": "markdown",
      "metadata": {
        "id": "kJerbqMGcdD3"
      },
      "source": [
        "## Encoding"
      ]
    },
    {
      "cell_type": "code",
      "execution_count": 149,
      "metadata": {
        "colab": {
          "base_uri": "https://localhost:8080/"
        },
        "id": "gZV0EPwdcdlY",
        "outputId": "35ff2e67-0a05-45e2-d547-bc76325d2a0e"
      },
      "outputs": [
        {
          "data": {
            "text/plain": [
              "unique_id                        1478\n",
              "disbursement_date                 865\n",
              "metro_type                          2\n",
              "LMI_type                            2\n",
              "lender_type_category                5\n",
              "optional_primary_use_of_funds       5\n",
              "optional_stage                      5\n",
              "active_status                       8\n",
              "dtype: int64"
            ]
          },
          "execution_count": 149,
          "metadata": {},
          "output_type": "execute_result"
        }
      ],
      "source": [
        "# Filter out the categorical columns\n",
        "categorical_columns = df.select_dtypes(include=['object']).columns\n",
        "\n",
        "# Calculate the number of unique values for each categorical column\n",
        "unique_counts_categorical = df[categorical_columns].nunique()\n",
        "\n",
        "unique_counts_categorical"
      ]
    },
    {
      "cell_type": "code",
      "execution_count": null,
      "metadata": {},
      "outputs": [],
      "source": []
    },
    {
      "cell_type": "code",
      "execution_count": 150,
      "metadata": {
        "colab": {
          "base_uri": "https://localhost:8080/",
          "height": 226
        },
        "id": "GAe5RwQ8ch34",
        "outputId": "fe2d2a60-e32c-4d80-b7a0-5e2df1b48443"
      },
      "outputs": [
        {
          "data": {
            "text/html": [
              "<div>\n",
              "<style scoped>\n",
              "    .dataframe tbody tr th:only-of-type {\n",
              "        vertical-align: middle;\n",
              "    }\n",
              "\n",
              "    .dataframe tbody tr th {\n",
              "        vertical-align: top;\n",
              "    }\n",
              "\n",
              "    .dataframe thead th {\n",
              "        text-align: right;\n",
              "    }\n",
              "</style>\n",
              "<table border=\"1\" class=\"dataframe\">\n",
              "  <thead>\n",
              "    <tr style=\"text-align: right;\">\n",
              "      <th></th>\n",
              "      <th>unique_id</th>\n",
              "      <th>disbursement_date</th>\n",
              "      <th>ssbci_original_funds</th>\n",
              "      <th>lender_insurance_premium</th>\n",
              "      <th>metro_type</th>\n",
              "      <th>LMI_type</th>\n",
              "      <th>revenue</th>\n",
              "      <th>naics_code</th>\n",
              "      <th>jobs_created</th>\n",
              "      <th>jobs_retained</th>\n",
              "      <th>lender_type_category</th>\n",
              "      <th>optional_primary_use_of_funds</th>\n",
              "      <th>optional_revenue_yr_confirmed</th>\n",
              "      <th>optional_stage</th>\n",
              "      <th>active_status</th>\n",
              "      <th>support_amount</th>\n",
              "      <th>full_time_employees</th>\n",
              "    </tr>\n",
              "  </thead>\n",
              "  <tbody>\n",
              "    <tr>\n",
              "      <th>168</th>\n",
              "      <td>0</td>\n",
              "      <td>297</td>\n",
              "      <td>10625.0</td>\n",
              "      <td>0.0</td>\n",
              "      <td>0</td>\n",
              "      <td>0</td>\n",
              "      <td>0.00</td>\n",
              "      <td>445110</td>\n",
              "      <td>35.0</td>\n",
              "      <td>0.0</td>\n",
              "      <td>0</td>\n",
              "      <td>4</td>\n",
              "      <td>2014.0</td>\n",
              "      <td>0</td>\n",
              "      <td>0</td>\n",
              "      <td>42500.0</td>\n",
              "      <td>35.0</td>\n",
              "    </tr>\n",
              "    <tr>\n",
              "      <th>170</th>\n",
              "      <td>10</td>\n",
              "      <td>380</td>\n",
              "      <td>33750.0</td>\n",
              "      <td>0.0</td>\n",
              "      <td>0</td>\n",
              "      <td>1</td>\n",
              "      <td>3867530.27</td>\n",
              "      <td>238910</td>\n",
              "      <td>30.0</td>\n",
              "      <td>30.0</td>\n",
              "      <td>0</td>\n",
              "      <td>4</td>\n",
              "      <td>2014.0</td>\n",
              "      <td>0</td>\n",
              "      <td>0</td>\n",
              "      <td>120000.0</td>\n",
              "      <td>60.0</td>\n",
              "    </tr>\n",
              "    <tr>\n",
              "      <th>176</th>\n",
              "      <td>21</td>\n",
              "      <td>463</td>\n",
              "      <td>182925.0</td>\n",
              "      <td>0.0</td>\n",
              "      <td>0</td>\n",
              "      <td>0</td>\n",
              "      <td>0.00</td>\n",
              "      <td>236220</td>\n",
              "      <td>15.0</td>\n",
              "      <td>1.0</td>\n",
              "      <td>0</td>\n",
              "      <td>4</td>\n",
              "      <td>2014.0</td>\n",
              "      <td>0</td>\n",
              "      <td>0</td>\n",
              "      <td>650400.0</td>\n",
              "      <td>16.0</td>\n",
              "    </tr>\n",
              "    <tr>\n",
              "      <th>181</th>\n",
              "      <td>27</td>\n",
              "      <td>508</td>\n",
              "      <td>50000.0</td>\n",
              "      <td>0.0</td>\n",
              "      <td>0</td>\n",
              "      <td>0</td>\n",
              "      <td>837922.00</td>\n",
              "      <td>814110</td>\n",
              "      <td>8.0</td>\n",
              "      <td>12.0</td>\n",
              "      <td>0</td>\n",
              "      <td>4</td>\n",
              "      <td>2014.0</td>\n",
              "      <td>0</td>\n",
              "      <td>0</td>\n",
              "      <td>200000.0</td>\n",
              "      <td>20.0</td>\n",
              "    </tr>\n",
              "    <tr>\n",
              "      <th>183</th>\n",
              "      <td>1</td>\n",
              "      <td>527</td>\n",
              "      <td>22500.0</td>\n",
              "      <td>0.0</td>\n",
              "      <td>0</td>\n",
              "      <td>0</td>\n",
              "      <td>1200000.00</td>\n",
              "      <td>311811</td>\n",
              "      <td>0.0</td>\n",
              "      <td>21.0</td>\n",
              "      <td>0</td>\n",
              "      <td>4</td>\n",
              "      <td>2014.0</td>\n",
              "      <td>0</td>\n",
              "      <td>0</td>\n",
              "      <td>90000.0</td>\n",
              "      <td>21.0</td>\n",
              "    </tr>\n",
              "  </tbody>\n",
              "</table>\n",
              "</div>"
            ],
            "text/plain": [
              "     unique_id  disbursement_date  ssbci_original_funds  \\\n",
              "168          0                297               10625.0   \n",
              "170         10                380               33750.0   \n",
              "176         21                463              182925.0   \n",
              "181         27                508               50000.0   \n",
              "183          1                527               22500.0   \n",
              "\n",
              "     lender_insurance_premium  metro_type  LMI_type     revenue  naics_code  \\\n",
              "168                       0.0           0         0        0.00      445110   \n",
              "170                       0.0           0         1  3867530.27      238910   \n",
              "176                       0.0           0         0        0.00      236220   \n",
              "181                       0.0           0         0   837922.00      814110   \n",
              "183                       0.0           0         0  1200000.00      311811   \n",
              "\n",
              "     jobs_created  jobs_retained  lender_type_category  \\\n",
              "168          35.0            0.0                     0   \n",
              "170          30.0           30.0                     0   \n",
              "176          15.0            1.0                     0   \n",
              "181           8.0           12.0                     0   \n",
              "183           0.0           21.0                     0   \n",
              "\n",
              "     optional_primary_use_of_funds  optional_revenue_yr_confirmed  \\\n",
              "168                              4                         2014.0   \n",
              "170                              4                         2014.0   \n",
              "176                              4                         2014.0   \n",
              "181                              4                         2014.0   \n",
              "183                              4                         2014.0   \n",
              "\n",
              "     optional_stage  active_status  support_amount  full_time_employees  \n",
              "168               0              0         42500.0                 35.0  \n",
              "170               0              0        120000.0                 60.0  \n",
              "176               0              0        650400.0                 16.0  \n",
              "181               0              0        200000.0                 20.0  \n",
              "183               0              0         90000.0                 21.0  "
            ]
          },
          "execution_count": 150,
          "metadata": {},
          "output_type": "execute_result"
        }
      ],
      "source": [
        "from sklearn.preprocessing import LabelEncoder\n",
        "\n",
        "# Initialize LabelEncoder\n",
        "label_encoder = LabelEncoder()\n",
        "\n",
        "# Iterate through each categorical column\n",
        "for column in df.select_dtypes(include=['object']):\n",
        "    # Convert 'Yes' values to 1 and all others to 0 for 'active_status' column\n",
        "    if column == 'active_status':\n",
        "        df[column] = df[column].apply(lambda x: 1 if x == 'Yes' else 0)\n",
        "    else:\n",
        "        # Apply label encoding to other categorical columns\n",
        "        df[column] = label_encoder.fit_transform(df[column])\n",
        "\n",
        "df.head()"
      ]
    },
    {
      "cell_type": "code",
      "execution_count": 151,
      "metadata": {},
      "outputs": [
        {
          "name": "stdout",
          "output_type": "stream",
          "text": [
            "   active_status  count\n",
            "0              1    740\n",
            "1              0    738\n"
          ]
        }
      ],
      "source": [
        "frequency = df['active_status'].value_counts()\n",
        "frequency = frequency.reset_index()\n",
        "frequency.columns = ['active_status', 'count']\n",
        "print(frequency)"
      ]
    },
    {
      "cell_type": "markdown",
      "metadata": {
        "id": "ng1BORFZcoSA"
      },
      "source": [
        "## Standardization"
      ]
    },
    {
      "cell_type": "code",
      "execution_count": 152,
      "metadata": {
        "colab": {
          "base_uri": "https://localhost:8080/",
          "height": 226
        },
        "id": "ve34zT3XclDg",
        "outputId": "ad325169-c5e9-490c-a05a-faabb2845eb2"
      },
      "outputs": [
        {
          "data": {
            "text/html": [
              "<div>\n",
              "<style scoped>\n",
              "    .dataframe tbody tr th:only-of-type {\n",
              "        vertical-align: middle;\n",
              "    }\n",
              "\n",
              "    .dataframe tbody tr th {\n",
              "        vertical-align: top;\n",
              "    }\n",
              "\n",
              "    .dataframe thead th {\n",
              "        text-align: right;\n",
              "    }\n",
              "</style>\n",
              "<table border=\"1\" class=\"dataframe\">\n",
              "  <thead>\n",
              "    <tr style=\"text-align: right;\">\n",
              "      <th></th>\n",
              "      <th>unique_id</th>\n",
              "      <th>disbursement_date</th>\n",
              "      <th>ssbci_original_funds</th>\n",
              "      <th>lender_insurance_premium</th>\n",
              "      <th>metro_type</th>\n",
              "      <th>LMI_type</th>\n",
              "      <th>revenue</th>\n",
              "      <th>naics_code</th>\n",
              "      <th>jobs_created</th>\n",
              "      <th>jobs_retained</th>\n",
              "      <th>lender_type_category</th>\n",
              "      <th>optional_primary_use_of_funds</th>\n",
              "      <th>optional_revenue_yr_confirmed</th>\n",
              "      <th>optional_stage</th>\n",
              "      <th>active_status</th>\n",
              "      <th>support_amount</th>\n",
              "      <th>full_time_employees</th>\n",
              "    </tr>\n",
              "  </thead>\n",
              "  <tbody>\n",
              "    <tr>\n",
              "      <th>0</th>\n",
              "      <td>-1.730879</td>\n",
              "      <td>-0.575504</td>\n",
              "      <td>-0.528821</td>\n",
              "      <td>-0.11629</td>\n",
              "      <td>-0.423756</td>\n",
              "      <td>-1.323755</td>\n",
              "      <td>-0.246784</td>\n",
              "      <td>-0.177192</td>\n",
              "      <td>0.681676</td>\n",
              "      <td>-0.508571</td>\n",
              "      <td>-0.763866</td>\n",
              "      <td>0.528012</td>\n",
              "      <td>-0.284933</td>\n",
              "      <td>-0.211297</td>\n",
              "      <td>-1.001354</td>\n",
              "      <td>-0.414966</td>\n",
              "      <td>-0.266468</td>\n",
              "    </tr>\n",
              "    <tr>\n",
              "      <th>1</th>\n",
              "      <td>-1.707442</td>\n",
              "      <td>-0.240258</td>\n",
              "      <td>-0.463703</td>\n",
              "      <td>-0.11629</td>\n",
              "      <td>-0.423756</td>\n",
              "      <td>0.755427</td>\n",
              "      <td>-0.120854</td>\n",
              "      <td>-1.359977</td>\n",
              "      <td>0.515558</td>\n",
              "      <td>-0.092044</td>\n",
              "      <td>-0.763866</td>\n",
              "      <td>0.528012</td>\n",
              "      <td>-0.284933</td>\n",
              "      <td>-0.211297</td>\n",
              "      <td>-1.001354</td>\n",
              "      <td>-0.237283</td>\n",
              "      <td>0.040703</td>\n",
              "    </tr>\n",
              "    <tr>\n",
              "      <th>2</th>\n",
              "      <td>-1.681660</td>\n",
              "      <td>0.094987</td>\n",
              "      <td>-0.043644</td>\n",
              "      <td>-0.11629</td>\n",
              "      <td>-0.423756</td>\n",
              "      <td>-1.323755</td>\n",
              "      <td>-0.246784</td>\n",
              "      <td>-1.375407</td>\n",
              "      <td>0.017204</td>\n",
              "      <td>-0.494687</td>\n",
              "      <td>-0.763866</td>\n",
              "      <td>0.528012</td>\n",
              "      <td>-0.284933</td>\n",
              "      <td>-0.211297</td>\n",
              "      <td>-1.001354</td>\n",
              "      <td>0.978756</td>\n",
              "      <td>-0.499919</td>\n",
              "    </tr>\n",
              "    <tr>\n",
              "      <th>3</th>\n",
              "      <td>-1.667597</td>\n",
              "      <td>0.276747</td>\n",
              "      <td>-0.417945</td>\n",
              "      <td>-0.11629</td>\n",
              "      <td>-0.423756</td>\n",
              "      <td>-1.323755</td>\n",
              "      <td>-0.219500</td>\n",
              "      <td>1.939430</td>\n",
              "      <td>-0.215361</td>\n",
              "      <td>-0.341960</td>\n",
              "      <td>-0.763866</td>\n",
              "      <td>0.528012</td>\n",
              "      <td>-0.284933</td>\n",
              "      <td>-0.211297</td>\n",
              "      <td>-1.001354</td>\n",
              "      <td>-0.053869</td>\n",
              "      <td>-0.450771</td>\n",
              "    </tr>\n",
              "    <tr>\n",
              "      <th>4</th>\n",
              "      <td>-1.728536</td>\n",
              "      <td>0.353490</td>\n",
              "      <td>-0.495382</td>\n",
              "      <td>-0.11629</td>\n",
              "      <td>-0.423756</td>\n",
              "      <td>-1.323755</td>\n",
              "      <td>-0.207711</td>\n",
              "      <td>-0.941810</td>\n",
              "      <td>-0.481150</td>\n",
              "      <td>-0.217002</td>\n",
              "      <td>-0.763866</td>\n",
              "      <td>0.528012</td>\n",
              "      <td>-0.284933</td>\n",
              "      <td>-0.211297</td>\n",
              "      <td>-1.001354</td>\n",
              "      <td>-0.306064</td>\n",
              "      <td>-0.438485</td>\n",
              "    </tr>\n",
              "  </tbody>\n",
              "</table>\n",
              "</div>"
            ],
            "text/plain": [
              "   unique_id  disbursement_date  ssbci_original_funds  \\\n",
              "0  -1.730879          -0.575504             -0.528821   \n",
              "1  -1.707442          -0.240258             -0.463703   \n",
              "2  -1.681660           0.094987             -0.043644   \n",
              "3  -1.667597           0.276747             -0.417945   \n",
              "4  -1.728536           0.353490             -0.495382   \n",
              "\n",
              "   lender_insurance_premium  metro_type  LMI_type   revenue  naics_code  \\\n",
              "0                  -0.11629   -0.423756 -1.323755 -0.246784   -0.177192   \n",
              "1                  -0.11629   -0.423756  0.755427 -0.120854   -1.359977   \n",
              "2                  -0.11629   -0.423756 -1.323755 -0.246784   -1.375407   \n",
              "3                  -0.11629   -0.423756 -1.323755 -0.219500    1.939430   \n",
              "4                  -0.11629   -0.423756 -1.323755 -0.207711   -0.941810   \n",
              "\n",
              "   jobs_created  jobs_retained  lender_type_category  \\\n",
              "0      0.681676      -0.508571             -0.763866   \n",
              "1      0.515558      -0.092044             -0.763866   \n",
              "2      0.017204      -0.494687             -0.763866   \n",
              "3     -0.215361      -0.341960             -0.763866   \n",
              "4     -0.481150      -0.217002             -0.763866   \n",
              "\n",
              "   optional_primary_use_of_funds  optional_revenue_yr_confirmed  \\\n",
              "0                       0.528012                      -0.284933   \n",
              "1                       0.528012                      -0.284933   \n",
              "2                       0.528012                      -0.284933   \n",
              "3                       0.528012                      -0.284933   \n",
              "4                       0.528012                      -0.284933   \n",
              "\n",
              "   optional_stage  active_status  support_amount  full_time_employees  \n",
              "0       -0.211297      -1.001354       -0.414966            -0.266468  \n",
              "1       -0.211297      -1.001354       -0.237283             0.040703  \n",
              "2       -0.211297      -1.001354        0.978756            -0.499919  \n",
              "3       -0.211297      -1.001354       -0.053869            -0.450771  \n",
              "4       -0.211297      -1.001354       -0.306064            -0.438485  "
            ]
          },
          "execution_count": 152,
          "metadata": {},
          "output_type": "execute_result"
        }
      ],
      "source": [
        "from sklearn.preprocessing import StandardScaler\n",
        "\n",
        "# Initialize StandardScaler\n",
        "scaler = StandardScaler()\n",
        "\n",
        "scaled_df = pd.DataFrame(scaler.fit_transform(df), columns=df.columns)\n",
        "\n",
        "scaled_df.head()"
      ]
    },
    {
      "cell_type": "markdown",
      "metadata": {
        "id": "69zmscpXcuJp"
      },
      "source": [
        "## PCA"
      ]
    },
    {
      "cell_type": "code",
      "execution_count": 153,
      "metadata": {
        "colab": {
          "base_uri": "https://localhost:8080/",
          "height": 443
        },
        "id": "_KeJ744gculY",
        "outputId": "2995a726-1a8f-4c17-a989-9ac5b57116c2"
      },
      "outputs": [
        {
          "data": {
            "text/html": [
              "<div>\n",
              "<style scoped>\n",
              "    .dataframe tbody tr th:only-of-type {\n",
              "        vertical-align: middle;\n",
              "    }\n",
              "\n",
              "    .dataframe tbody tr th {\n",
              "        vertical-align: top;\n",
              "    }\n",
              "\n",
              "    .dataframe thead th {\n",
              "        text-align: right;\n",
              "    }\n",
              "</style>\n",
              "<table border=\"1\" class=\"dataframe\">\n",
              "  <thead>\n",
              "    <tr style=\"text-align: right;\">\n",
              "      <th></th>\n",
              "      <th>PC1</th>\n",
              "      <th>PC2</th>\n",
              "      <th>PC3</th>\n",
              "      <th>PC4</th>\n",
              "      <th>PC5</th>\n",
              "      <th>PC6</th>\n",
              "      <th>PC7</th>\n",
              "      <th>PC8</th>\n",
              "      <th>PC9</th>\n",
              "      <th>PC10</th>\n",
              "      <th>PC11</th>\n",
              "      <th>PC12</th>\n",
              "      <th>PC13</th>\n",
              "      <th>PC14</th>\n",
              "      <th>PC15</th>\n",
              "      <th>PC16</th>\n",
              "    </tr>\n",
              "  </thead>\n",
              "  <tbody>\n",
              "    <tr>\n",
              "      <th>0</th>\n",
              "      <td>1.692616</td>\n",
              "      <td>-1.050804</td>\n",
              "      <td>0.020761</td>\n",
              "      <td>0.101518</td>\n",
              "      <td>0.856809</td>\n",
              "      <td>-0.976169</td>\n",
              "      <td>-0.312336</td>\n",
              "      <td>-0.969529</td>\n",
              "      <td>0.251301</td>\n",
              "      <td>-0.203933</td>\n",
              "      <td>0.630523</td>\n",
              "      <td>0.670839</td>\n",
              "      <td>-0.842624</td>\n",
              "      <td>0.013924</td>\n",
              "      <td>0.414036</td>\n",
              "      <td>-0.247882</td>\n",
              "    </tr>\n",
              "    <tr>\n",
              "      <th>1</th>\n",
              "      <td>1.798647</td>\n",
              "      <td>-0.778800</td>\n",
              "      <td>0.076205</td>\n",
              "      <td>0.484023</td>\n",
              "      <td>-0.101867</td>\n",
              "      <td>0.020446</td>\n",
              "      <td>0.391456</td>\n",
              "      <td>-0.299437</td>\n",
              "      <td>-1.227593</td>\n",
              "      <td>-0.782562</td>\n",
              "      <td>0.128730</td>\n",
              "      <td>0.214151</td>\n",
              "      <td>-1.049795</td>\n",
              "      <td>-0.075092</td>\n",
              "      <td>0.638833</td>\n",
              "      <td>-0.325344</td>\n",
              "    </tr>\n",
              "    <tr>\n",
              "      <th>2</th>\n",
              "      <td>1.944435</td>\n",
              "      <td>-1.216143</td>\n",
              "      <td>0.466490</td>\n",
              "      <td>1.027049</td>\n",
              "      <td>1.122209</td>\n",
              "      <td>-0.601086</td>\n",
              "      <td>-0.785744</td>\n",
              "      <td>-0.372547</td>\n",
              "      <td>-0.783617</td>\n",
              "      <td>0.407469</td>\n",
              "      <td>0.254542</td>\n",
              "      <td>0.153476</td>\n",
              "      <td>-0.026600</td>\n",
              "      <td>0.327698</td>\n",
              "      <td>0.488848</td>\n",
              "      <td>-0.231755</td>\n",
              "    </tr>\n",
              "    <tr>\n",
              "      <th>3</th>\n",
              "      <td>1.855719</td>\n",
              "      <td>-1.006287</td>\n",
              "      <td>-0.241493</td>\n",
              "      <td>-0.482853</td>\n",
              "      <td>0.302014</td>\n",
              "      <td>-0.168626</td>\n",
              "      <td>-0.885584</td>\n",
              "      <td>-0.271561</td>\n",
              "      <td>2.030435</td>\n",
              "      <td>0.362749</td>\n",
              "      <td>0.767393</td>\n",
              "      <td>0.628224</td>\n",
              "      <td>-0.149559</td>\n",
              "      <td>-0.032672</td>\n",
              "      <td>0.292945</td>\n",
              "      <td>-0.273255</td>\n",
              "    </tr>\n",
              "    <tr>\n",
              "      <th>4</th>\n",
              "      <td>1.716743</td>\n",
              "      <td>-1.440549</td>\n",
              "      <td>0.127671</td>\n",
              "      <td>0.481848</td>\n",
              "      <td>1.329891</td>\n",
              "      <td>-0.543012</td>\n",
              "      <td>-0.709537</td>\n",
              "      <td>0.202892</td>\n",
              "      <td>-0.095236</td>\n",
              "      <td>-0.248517</td>\n",
              "      <td>0.288589</td>\n",
              "      <td>0.090109</td>\n",
              "      <td>-0.641894</td>\n",
              "      <td>-0.162684</td>\n",
              "      <td>0.525043</td>\n",
              "      <td>-0.173727</td>\n",
              "    </tr>\n",
              "    <tr>\n",
              "      <th>...</th>\n",
              "      <td>...</td>\n",
              "      <td>...</td>\n",
              "      <td>...</td>\n",
              "      <td>...</td>\n",
              "      <td>...</td>\n",
              "      <td>...</td>\n",
              "      <td>...</td>\n",
              "      <td>...</td>\n",
              "      <td>...</td>\n",
              "      <td>...</td>\n",
              "      <td>...</td>\n",
              "      <td>...</td>\n",
              "      <td>...</td>\n",
              "      <td>...</td>\n",
              "      <td>...</td>\n",
              "      <td>...</td>\n",
              "    </tr>\n",
              "    <tr>\n",
              "      <th>1473</th>\n",
              "      <td>-1.878245</td>\n",
              "      <td>0.710340</td>\n",
              "      <td>0.704425</td>\n",
              "      <td>0.920552</td>\n",
              "      <td>-0.701557</td>\n",
              "      <td>0.895357</td>\n",
              "      <td>-1.118327</td>\n",
              "      <td>0.254583</td>\n",
              "      <td>-2.431298</td>\n",
              "      <td>2.181870</td>\n",
              "      <td>-1.195995</td>\n",
              "      <td>1.244868</td>\n",
              "      <td>1.167885</td>\n",
              "      <td>-1.787793</td>\n",
              "      <td>-0.365144</td>\n",
              "      <td>0.070167</td>\n",
              "    </tr>\n",
              "    <tr>\n",
              "      <th>1474</th>\n",
              "      <td>-2.318852</td>\n",
              "      <td>0.204650</td>\n",
              "      <td>2.341963</td>\n",
              "      <td>-0.499312</td>\n",
              "      <td>-0.233521</td>\n",
              "      <td>0.789292</td>\n",
              "      <td>-0.696976</td>\n",
              "      <td>0.172538</td>\n",
              "      <td>-1.551495</td>\n",
              "      <td>0.106558</td>\n",
              "      <td>-1.073132</td>\n",
              "      <td>-0.201840</td>\n",
              "      <td>-0.734623</td>\n",
              "      <td>0.147306</td>\n",
              "      <td>-0.362017</td>\n",
              "      <td>0.544587</td>\n",
              "    </tr>\n",
              "    <tr>\n",
              "      <th>1475</th>\n",
              "      <td>-2.420485</td>\n",
              "      <td>0.520713</td>\n",
              "      <td>0.591536</td>\n",
              "      <td>-1.520427</td>\n",
              "      <td>-1.061627</td>\n",
              "      <td>0.300365</td>\n",
              "      <td>-0.650749</td>\n",
              "      <td>0.749449</td>\n",
              "      <td>-1.087549</td>\n",
              "      <td>1.767932</td>\n",
              "      <td>-0.433489</td>\n",
              "      <td>1.089967</td>\n",
              "      <td>-0.301393</td>\n",
              "      <td>-1.263493</td>\n",
              "      <td>-0.317464</td>\n",
              "      <td>0.481919</td>\n",
              "    </tr>\n",
              "    <tr>\n",
              "      <th>1476</th>\n",
              "      <td>-2.089192</td>\n",
              "      <td>0.224454</td>\n",
              "      <td>-0.060562</td>\n",
              "      <td>-0.774727</td>\n",
              "      <td>-0.481176</td>\n",
              "      <td>0.543111</td>\n",
              "      <td>-0.806975</td>\n",
              "      <td>0.171381</td>\n",
              "      <td>-2.117870</td>\n",
              "      <td>0.762559</td>\n",
              "      <td>-0.691445</td>\n",
              "      <td>1.809916</td>\n",
              "      <td>-0.247039</td>\n",
              "      <td>-1.493678</td>\n",
              "      <td>-1.048190</td>\n",
              "      <td>0.106264</td>\n",
              "    </tr>\n",
              "    <tr>\n",
              "      <th>1477</th>\n",
              "      <td>-1.622331</td>\n",
              "      <td>-0.018073</td>\n",
              "      <td>-0.145946</td>\n",
              "      <td>-0.952802</td>\n",
              "      <td>0.606302</td>\n",
              "      <td>-0.010186</td>\n",
              "      <td>-1.096798</td>\n",
              "      <td>0.478460</td>\n",
              "      <td>0.386095</td>\n",
              "      <td>1.294593</td>\n",
              "      <td>1.455390</td>\n",
              "      <td>-0.440429</td>\n",
              "      <td>-0.064863</td>\n",
              "      <td>-0.601525</td>\n",
              "      <td>-1.355070</td>\n",
              "      <td>0.620867</td>\n",
              "    </tr>\n",
              "  </tbody>\n",
              "</table>\n",
              "<p>1478 rows × 16 columns</p>\n",
              "</div>"
            ],
            "text/plain": [
              "           PC1       PC2       PC3       PC4       PC5       PC6       PC7  \\\n",
              "0     1.692616 -1.050804  0.020761  0.101518  0.856809 -0.976169 -0.312336   \n",
              "1     1.798647 -0.778800  0.076205  0.484023 -0.101867  0.020446  0.391456   \n",
              "2     1.944435 -1.216143  0.466490  1.027049  1.122209 -0.601086 -0.785744   \n",
              "3     1.855719 -1.006287 -0.241493 -0.482853  0.302014 -0.168626 -0.885584   \n",
              "4     1.716743 -1.440549  0.127671  0.481848  1.329891 -0.543012 -0.709537   \n",
              "...        ...       ...       ...       ...       ...       ...       ...   \n",
              "1473 -1.878245  0.710340  0.704425  0.920552 -0.701557  0.895357 -1.118327   \n",
              "1474 -2.318852  0.204650  2.341963 -0.499312 -0.233521  0.789292 -0.696976   \n",
              "1475 -2.420485  0.520713  0.591536 -1.520427 -1.061627  0.300365 -0.650749   \n",
              "1476 -2.089192  0.224454 -0.060562 -0.774727 -0.481176  0.543111 -0.806975   \n",
              "1477 -1.622331 -0.018073 -0.145946 -0.952802  0.606302 -0.010186 -1.096798   \n",
              "\n",
              "           PC8       PC9      PC10      PC11      PC12      PC13      PC14  \\\n",
              "0    -0.969529  0.251301 -0.203933  0.630523  0.670839 -0.842624  0.013924   \n",
              "1    -0.299437 -1.227593 -0.782562  0.128730  0.214151 -1.049795 -0.075092   \n",
              "2    -0.372547 -0.783617  0.407469  0.254542  0.153476 -0.026600  0.327698   \n",
              "3    -0.271561  2.030435  0.362749  0.767393  0.628224 -0.149559 -0.032672   \n",
              "4     0.202892 -0.095236 -0.248517  0.288589  0.090109 -0.641894 -0.162684   \n",
              "...        ...       ...       ...       ...       ...       ...       ...   \n",
              "1473  0.254583 -2.431298  2.181870 -1.195995  1.244868  1.167885 -1.787793   \n",
              "1474  0.172538 -1.551495  0.106558 -1.073132 -0.201840 -0.734623  0.147306   \n",
              "1475  0.749449 -1.087549  1.767932 -0.433489  1.089967 -0.301393 -1.263493   \n",
              "1476  0.171381 -2.117870  0.762559 -0.691445  1.809916 -0.247039 -1.493678   \n",
              "1477  0.478460  0.386095  1.294593  1.455390 -0.440429 -0.064863 -0.601525   \n",
              "\n",
              "          PC15      PC16  \n",
              "0     0.414036 -0.247882  \n",
              "1     0.638833 -0.325344  \n",
              "2     0.488848 -0.231755  \n",
              "3     0.292945 -0.273255  \n",
              "4     0.525043 -0.173727  \n",
              "...        ...       ...  \n",
              "1473 -0.365144  0.070167  \n",
              "1474 -0.362017  0.544587  \n",
              "1475 -0.317464  0.481919  \n",
              "1476 -1.048190  0.106264  \n",
              "1477 -1.355070  0.620867  \n",
              "\n",
              "[1478 rows x 16 columns]"
            ]
          },
          "execution_count": 153,
          "metadata": {},
          "output_type": "execute_result"
        }
      ],
      "source": [
        "from sklearn.decomposition import PCA\n",
        "\n",
        "# Initialize PCA with the number of components you want\n",
        "pca = PCA(n_components=16)\n",
        "\n",
        "# Fit PCA to the scaled data\n",
        "pca.fit(scaled_df)\n",
        "\n",
        "# Transform the data to the new feature space\n",
        "transformed_data = pca.transform(scaled_df)\n",
        "\n",
        "# Convert the transformed data to a DataFrame\n",
        "selected_features = pd.DataFrame(transformed_data, columns=[f'PC{i}' for i in range(1, 17)])\n",
        "\n",
        "\n",
        "selected_features\n",
        "\n"
      ]
    },
    {
      "cell_type": "code",
      "execution_count": 154,
      "metadata": {
        "colab": {
          "base_uri": "https://localhost:8080/",
          "height": 564
        },
        "id": "d9T2nFjncxCI",
        "outputId": "f3088283-6531-46d8-9584-4e85b0a7dfbe"
      },
      "outputs": [
        {
          "data": {
            "image/png": "[encoded data removed]",
            "text/plain": [
              "<Figure size 800x600 with 1 Axes>"
            ]
          },
          "metadata": {},
          "output_type": "display_data"
        }
      ],
      "source": [
        "# Scree plot\n",
        "plt.figure(figsize=(8, 6))\n",
        "plt.plot(range(1, len(pca.explained_variance_ratio_) + 1), pca.explained_variance_ratio_, marker='o', linestyle='-')\n",
        "plt.xlabel('Number of Components')\n",
        "plt.ylabel('Explained Variance Ratio')\n",
        "plt.title('Scree Plot')\n",
        "plt.grid(True)\n",
        "plt.show()"
      ]
    },
    {
      "cell_type": "markdown",
      "metadata": {
        "id": "mY6mIJoQhQO4"
      },
      "source": [
        "Based on the scree plot, the elbow point, indicative of diminishing returns in explained variance, occurs around component 6. Therefore, focusing on these six components would capture the most important information of the data's variation."
      ]
    },
    {
      "cell_type": "code",
      "execution_count": 155,
      "metadata": {
        "colab": {
          "base_uri": "https://localhost:8080/",
          "height": 564
        },
        "id": "G3B9y8HPc2aQ",
        "outputId": "e3b964f9-e440-49f0-a9ef-e2c1ae806837"
      },
      "outputs": [
        {
          "data": {
            "image/png": "[encoded data removed]",
            "text/plain": [
              "<Figure size 800x600 with 1 Axes>"
            ]
          },
          "metadata": {},
          "output_type": "display_data"
        }
      ],
      "source": [
        "import matplotlib.pyplot as plt\n",
        "\n",
        "# Plot the explained variance ratio\n",
        "plt.figure(figsize=(8, 6))\n",
        "plt.bar(range(1, pca.n_components_ + 1), pca.explained_variance_ratio_, color='blue', alpha=0.5)\n",
        "plt.xlabel('Principal Component')\n",
        "plt.ylabel('Explained Variance Ratio')\n",
        "plt.title('Explained Variance Ratio of Principal Components')\n",
        "plt.xticks(range(1, pca.n_components_ + 1))\n",
        "plt.show()\n"
      ]
    },
    {
      "cell_type": "code",
      "execution_count": 156,
      "metadata": {
        "colab": {
          "base_uri": "https://localhost:8080/",
          "height": 564
        },
        "id": "pKHNwKIic7Eo",
        "outputId": "0f59573e-ede7-4fa4-b201-6a20041bc209"
      },
      "outputs": [
        {
          "data": {
            "image/png": "[encoded data removed]",
            "text/plain": [
              "<Figure size 800x600 with 1 Axes>"
            ]
          },
          "metadata": {},
          "output_type": "display_data"
        }
      ],
      "source": [
        "import matplotlib.pyplot as plt\n",
        "import numpy as np\n",
        "\n",
        "# Assuming pca is your PCA object\n",
        "explained_variance_ratio_cumulative = np.cumsum(pca.explained_variance_ratio_)\n",
        "\n",
        "# Plot the cumulative explained variance ratio\n",
        "plt.figure(figsize=(8, 6))\n",
        "plt.plot(range(1, len(explained_variance_ratio_cumulative) + 1), explained_variance_ratio_cumulative, marker='o', linestyle='-')\n",
        "plt.xlabel('Number of Components')\n",
        "plt.ylabel('Cumulative Explained Variance Ratio')\n",
        "plt.title('Cumulative Explained Variance Ratio of Principal Components')\n",
        "plt.xticks(range(1, len(explained_variance_ratio_cumulative) + 1))\n",
        "plt.grid(True)\n",
        "plt.show()\n"
      ]
    },
    {
      "cell_type": "markdown",
      "metadata": {
        "id": "Am4RKZn-hUyI"
      },
      "source": [
        "As we increment the number of principal components, the cumulative explained variance ratio experiences a sharp ascent. This suggests that a small subset of components (6)  significantly contributes to capturing the underlying variability in the data"
      ]
    },
    {
      "cell_type": "code",
      "execution_count": 157,
      "metadata": {
        "id": "AWPgTM4IhP3X"
      },
      "outputs": [
        {
          "name": "stdout",
          "output_type": "stream",
          "text": [
            "                                              Features  \\\n",
            "0                                         (unique_id,)   \n",
            "1                                 (disbursement_date,)   \n",
            "2                              (ssbci_original_funds,)   \n",
            "3                          (lender_insurance_premium,)   \n",
            "4                                        (metro_type,)   \n",
            "..                                                 ...   \n",
            "691  (optional_primary_use_of_funds, support_amount...   \n",
            "692  (optional_revenue_yr_confirmed, optional_stage...   \n",
            "693  (optional_revenue_yr_confirmed, optional_stage...   \n",
            "694  (optional_revenue_yr_confirmed, support_amount...   \n",
            "695  (optional_stage, support_amount, full_time_emp...   \n",
            "\n",
            "     Linear Regression RMSE  Random Forest Regression RMSE  \n",
            "0                  0.794115                       0.496698  \n",
            "1                  1.001242                       1.110711  \n",
            "2                  0.978794                       1.007791  \n",
            "3                  1.000678                       1.010215  \n",
            "4                  0.961219                       0.961131  \n",
            "..                      ...                            ...  \n",
            "691                0.883988                       0.714447  \n",
            "692                0.946975                       0.605528  \n",
            "693                0.960188                       0.741993  \n",
            "694                0.954974                       0.672861  \n",
            "695                0.973065                       0.826550  \n",
            "\n",
            "[696 rows x 3 columns]\n"
          ]
        }
      ],
      "source": [
        "import pandas as pd\n",
        "from sklearn.model_selection import train_test_split\n",
        "from sklearn.linear_model import LogisticRegression\n",
        "from sklearn.metrics import accuracy_score\n",
        "import itertools\n",
        "\n",
        "# Assuming scaled_df and df are already defined\n",
        "\n",
        "# Split your data into features (X) and target variable (y)\n",
        "X = scaled_df.drop(columns=['active_status'])  # Assuming 'active_status' is the target variable\n",
        "y = df['active_status']  # Notice we are using the original unscaled target here\n",
        "\n",
        "# Split your data into training and testing sets\n",
        "X_train, X_test, y_train, y_test = train_test_split(X, y, test_size=0.2, random_state=42)\n",
        "\n",
        "# List to store results\n",
        "results = []\n",
        "\n",
        "# Calculate total number of combinations\n",
        "total_combinations = sum(len(list(itertools.combinations(X.columns, r))) for r in range(1, 4))\n",
        "\n",
        "# Initialize counter for tracking progress\n",
        "progress_counter = 0\n",
        "\n",
        "# Loop through all possible combinations of features\n",
        "for r in range(1, 4):  # considering combinations of 1 to 3 features\n",
        "    feature_combinations = list(itertools.combinations(X.columns, r))\n",
        "    for features in feature_combinations:\n",
        "        # Logistic Regression\n",
        "        lr_model = LogisticRegression()\n",
        "        lr_model.fit(X_train[list(features)], y_train)\n",
        "        lr_pred = lr_model.predict(X_test[list(features)])\n",
        "        lr_accuracy = accuracy_score(y_test, lr_pred)\n",
        "\n",
        "        # Store results\n",
        "        results.append({\n",
        "            'Features': features,\n",
        "            'Logistic Regression Accuracy': lr_accuracy,\n",
        "        })\n",
        "\n",
        "        # Update progress\n",
        "        progress_counter += 1\n",
        "        print(f\"Progress: {progress_counter}/{total_combinations}\")\n",
        "\n",
        "# Convert results to DataFrame for analysis\n",
        "results_df = pd.DataFrame(results)\n",
        "pd.set_option('display.max_rows', None)  # Display all rows without truncation\n",
        "print(results_df)\n"
      ]
    },
    {
      "cell_type": "code",
      "execution_count": null,
      "metadata": {},
      "outputs": [],
      "source": [
        "\n",
        "# Split your data into features (X) and target variable (y)\n",
        "X = scaled_df.drop(columns=['active_status'])  \n",
        "y = df['active_status']  \n",
        "\n",
        "# Split your data into training and testing sets\n",
        "X_train, X_test, y_train, y_test = train_test_split(X, y, test_size=0.2, random_state=42)\n",
        "\n",
        "# List to store results\n",
        "results = []\n",
        "\n",
        "\n",
        "# Calculate total number of combinations\n",
        "total_combinations = sum(len(list(itertools.combinations(X.columns, r))) for r in range(1, 4))\n",
        "\n",
        "# Initialize counter for tracking progress\n",
        "progress_counter = 0\n",
        "\n",
        "# Loop through all possible combinations of features\n",
        "for r in range(1, 4):  # considering combinations of 1 to 3 features\n",
        "    feature_combinations = list(itertools.combinations(X.columns, r))\n",
        "    for features in feature_combinations:\n",
        "       # Random Forest Classifier\n",
        "        rf_model = RandomForestClassifier()\n",
        "        rf_model.fit(X_train[list(features)], y_train)\n",
        "        rf_pred = rf_model.predict(X_test[list(features)])\n",
        "        rf_accuracy = accuracy_score(y_test, rf_pred)\n",
        "\n",
        "\n",
        "        \n",
        "        # Store results\n",
        "        results.append({\n",
        "            'Features': features,\n",
        "            'Random Forest Accuracy': rf_accuracy,\n",
        "            \n",
        "        })\n",
        "\n",
        "        # Update progress\n",
        "        progress_counter += 1\n",
        "        print(f\"Progress: {progress_counter}/{total_combinations}\")\n",
        "\n",
        "# Convert results to DataFrame for analysis\n",
        "results_df = pd.DataFrame(results)\n",
        "pd.set_option('display.max_rows', None)  # Display all rows without truncation\n",
        "print(results_df)\n"
      ]
    },
    {
      "cell_type": "code",
      "execution_count": null,
      "metadata": {},
      "outputs": [],
      "source": [
        "import tensorflow as tf\n",
        "from tensorflow.keras.models import Sequential \n",
        "from tensorflow.keras.layers import Dense\n",
        "\n",
        "# Split your data into features (X) and target variable (y)\n",
        "X = scaled_df.drop(columns=['active_status']) \n",
        "y = df['active_status'] \n",
        "\n",
        "# Split your data into training and testing sets\n",
        "X_train, X_test, y_train, y_test = train_test_split(X, y, test_size=0.2, random_state=42)\n",
        "\n",
        "# List to store results\n",
        "results = []\n",
        "\n",
        "# Calculate total number of combinations\n",
        "total_combinations = sum(len(list(itertools.combinations(X.columns, r))) for r in range(1, 4))\n",
        "\n",
        "# Initialize counter for tracking progress\n",
        "progress_counter = 0 \n",
        "\n",
        "# Loop through all possible combinations of features\n",
        "for r in range(1, 4):  # considering combinations of 1 to 3 features\n",
        "    feature_combinations = list(itertools.combinations(X.columns, r))\n",
        "    for features in feature_combinations:\n",
        "        # Define a simple neural network model\n",
        "        model = Sequential([\n",
        "            Dense(64, activation='relu', input_shape=(len(features),)),\n",
        "            Dense(32, activation='relu'),\n",
        "            Dense(1, activation='sigmoid')\n",
        "        ])\n",
        "\n",
        "        # Compile the model\n",
        "        model.compile(optimizer='adam', loss='binary_crossentropy', metrics=['accuracy'])\n",
        "\n",
        "        # Train the model\n",
        "        model.fit(X_train[list(features)], y_train, epochs=10, batch_size=32, verbose=0)\n",
        "\n",
        "        # Evaluate the model\n",
        "        nn_accuracy = model.evaluate(X_test[list(features)], y_test, verbose=0)[1]\n",
        "\n",
        "        # Store results\n",
        "        results.append({\n",
        "            'Features': features,\n",
        "            'Neural Network Accuracy': nn_accuracy\n",
        "        })\n",
        "        # Update progress\n",
        "        progress_counter += 1\n",
        "        print(f\"Progress: {progress_counter}/{total_combinations}\")\n",
        "# Convert results to DataFrame for analysis\n",
        "results_df = pd.DataFrame(results)\n",
        "print(results_df)"
      ]
    }
  ],
  "metadata": {
    "colab": {
      "provenance": []
    },
    "kernelspec": {
      "display_name": "Python 3",
      "language": "python",
      "name": "python3"
    },
    "language_info": {
      "codemirror_mode": {
        "name": "ipython",
        "version": 3
      },
      "file_extension": ".py",
      "mimetype": "text/x-python",
      "name": "python",
      "nbconvert_exporter": "python",
      "pygments_lexer": "ipython3",
      "version": "3.11.6"
    }
  },
  "nbformat": 4,
  "nbformat_minor": 0
}
