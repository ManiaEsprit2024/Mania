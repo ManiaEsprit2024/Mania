version https://git-lfs.github.com/spec/v1
oid sha256:7c8c6764384bf47b2f2aa1e04c8161e1610cc4333de1bb3fe7af83f102ac7d0e
size 566614
